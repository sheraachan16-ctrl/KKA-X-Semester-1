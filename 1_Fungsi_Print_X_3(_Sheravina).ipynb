{
  "nbformat": 4,
  "nbformat_minor": 0,
  "metadata": {
    "colab": {
      "provenance": [],
      "authorship_tag": "ABX9TyNYB53HZPDIxpS0BC2yVjuZ",
      "include_colab_link": true
    },
    "kernelspec": {
      "name": "python3",
      "display_name": "Python 3"
    },
    "language_info": {
      "name": "python"
    }
  },
  "cells": [
    {
      "cell_type": "markdown",
      "metadata": {
        "id": "view-in-github",
        "colab_type": "text"
      },
      "source": [
        "<a href=\"https://colab.research.google.com/github/sheraachan16-ctrl/KKA-X-Semester-1/blob/main/1_Fungsi_Print_X_3(_Sheravina).ipynb\" target=\"_parent\"><img src=\"https://colab.research.google.com/assets/colab-badge.svg\" alt=\"Open In Colab\"/></a>"
      ]
    },
    {
      "cell_type": "markdown",
      "source": [
        "Nama: Sheravina Chantika Oktaviani\n",
        "\n",
        "Kelas: X 3\n",
        "\n",
        "Absen: 29"
      ],
      "metadata": {
        "id": "xj5t_5Ipkypq"
      }
    },
    {
      "cell_type": "markdown",
      "source": [
        "#Menampilkan Teks Bebas"
      ],
      "metadata": {
        "id": "kzxYrZBemH5a"
      }
    },
    {
      "cell_type": "code",
      "source": [
        "print('Sheravina Chantika Oktaviani')"
      ],
      "metadata": {
        "colab": {
          "base_uri": "https://localhost:8080/"
        },
        "id": "V83ScUk9lmmJ",
        "outputId": "f7f58f86-949e-4393-ac4d-87c2295e4ca6"
      },
      "execution_count": null,
      "outputs": [
        {
          "output_type": "stream",
          "name": "stdout",
          "text": [
            "Sheravina Chantika Oktaviani\n"
          ]
        }
      ]
    },
    {
      "cell_type": "markdown",
      "source": [
        "#Hello Jomblo All Over The World"
      ],
      "metadata": {
        "id": "-nkgayM4l5bI"
      }
    },
    {
      "cell_type": "markdown",
      "source": [
        "#Menampilkan Nilai Variabel"
      ],
      "metadata": {
        "id": "ejxVglsdnIYB"
      }
    },
    {
      "cell_type": "code",
      "source": [
        "Nama= \"Sheravina Chantika Oktaviani\"\n",
        "Usia= 15"
      ],
      "metadata": {
        "id": "5YLbtvlfnRwP"
      },
      "execution_count": null,
      "outputs": []
    },
    {
      "cell_type": "code",
      "source": [
        "print(\"Nama\")"
      ],
      "metadata": {
        "colab": {
          "base_uri": "https://localhost:8080/"
        },
        "id": "2dvdHw1andbG",
        "outputId": "bd923034-f0b4-4e23-b270-252e38d52739"
      },
      "execution_count": null,
      "outputs": [
        {
          "output_type": "stream",
          "name": "stdout",
          "text": [
            "Nama\n"
          ]
        }
      ]
    },
    {
      "cell_type": "code",
      "source": [
        "print(Nama)"
      ],
      "metadata": {
        "colab": {
          "base_uri": "https://localhost:8080/"
        },
        "id": "73ZbE4F6qWd7",
        "outputId": "86472aef-82f4-401c-be6f-6f3844272157"
      },
      "execution_count": null,
      "outputs": [
        {
          "output_type": "stream",
          "name": "stdout",
          "text": [
            "Astharavino\n"
          ]
        }
      ]
    },
    {
      "cell_type": "code",
      "source": [
        "print(\"Usia\")"
      ],
      "metadata": {
        "colab": {
          "base_uri": "https://localhost:8080/"
        },
        "id": "fMUEh1Y4oRtQ",
        "outputId": "c0aecf00-7796-4797-a7e2-cee181bb17c9"
      },
      "execution_count": null,
      "outputs": [
        {
          "output_type": "stream",
          "name": "stdout",
          "text": [
            "Usia\n"
          ]
        }
      ]
    },
    {
      "cell_type": "code",
      "source": [
        "print(Usia)"
      ],
      "metadata": {
        "colab": {
          "base_uri": "https://localhost:8080/"
        },
        "id": "G1I3zq3xr6Hr",
        "outputId": "abf2289e-ab8d-4e89-9e4f-a69b5d712071"
      },
      "execution_count": null,
      "outputs": [
        {
          "output_type": "stream",
          "name": "stdout",
          "text": [
            "15\n"
          ]
        }
      ]
    },
    {
      "cell_type": "code",
      "source": [
        "print(\"50 kg\")"
      ],
      "metadata": {
        "colab": {
          "base_uri": "https://localhost:8080/"
        },
        "id": "Wz12G6iupkur",
        "outputId": "b65bde2a-0eb7-4fe0-d51e-633321f54c84"
      },
      "execution_count": null,
      "outputs": [
        {
          "output_type": "stream",
          "name": "stdout",
          "text": [
            "50 kg\n"
          ]
        }
      ]
    },
    {
      "cell_type": "markdown",
      "source": [
        "#Menampilkan Nilai Variabel dan Teks Bebas"
      ],
      "metadata": {
        "id": "1f5VVJ3EyL-_"
      }
    },
    {
      "cell_type": "code",
      "source": [
        "print(\"Halo nama saya\" ,Nama,\". Usia saya\" ,Usia,\" tahun.\")"
      ],
      "metadata": {
        "colab": {
          "base_uri": "https://localhost:8080/"
        },
        "id": "mSHtexe2yVH0",
        "outputId": "720ecdb5-2e73-4afd-f1a6-6d3203548a68"
      },
      "execution_count": null,
      "outputs": [
        {
          "output_type": "stream",
          "name": "stdout",
          "text": [
            "Halo nama saya Sheravina Chantika Oktaviani . Usia saya 15  tahun.\n"
          ]
        }
      ]
    },
    {
      "cell_type": "code",
      "source": [
        "print(\"Halo nama saya \"+Nama+\". Usia saya \"+str(Usia)+\" tahun.\")"
      ],
      "metadata": {
        "colab": {
          "base_uri": "https://localhost:8080/"
        },
        "id": "3IklPoRey5mF",
        "outputId": "42ea8fe8-c7ed-4932-a8dc-0c7d9bcb899e"
      },
      "execution_count": null,
      "outputs": [
        {
          "output_type": "stream",
          "name": "stdout",
          "text": [
            "Halo nama saya Sheravina Chantika Oktaviani. Usia saya 15 tahun.\n"
          ]
        }
      ]
    },
    {
      "cell_type": "code",
      "source": [
        "print (f\"Halo nama saya {Nama}. Usia saya {Usia} tahun. \")"
      ],
      "metadata": {
        "colab": {
          "base_uri": "https://localhost:8080/"
        },
        "id": "MKWFmP6QzNHO",
        "outputId": "ee2fd036-7c53-47d5-f8bb-b4857fb2f8f3"
      },
      "execution_count": null,
      "outputs": [
        {
          "output_type": "stream",
          "name": "stdout",
          "text": [
            "Halo nama saya Sheravina Chantika Oktaviani. Usia saya 15 tahun. \n"
          ]
        }
      ]
    },
    {
      "cell_type": "code",
      "source": [
        "Nama= \"Astharavino\"\n",
        "Berat_badan= 7"
      ],
      "metadata": {
        "id": "fptQyZLaunNj"
      },
      "execution_count": null,
      "outputs": []
    },
    {
      "cell_type": "code",
      "source": [
        "print (\"Astharavino\")"
      ],
      "metadata": {
        "colab": {
          "base_uri": "https://localhost:8080/"
        },
        "id": "xSffUboQprZ4",
        "outputId": "635bc6e5-627a-4f41-d92c-24c3024516ec"
      },
      "execution_count": null,
      "outputs": [
        {
          "output_type": "stream",
          "name": "stdout",
          "text": [
            "Astharavino\n"
          ]
        }
      ]
    },
    {
      "cell_type": "markdown",
      "source": [
        "#Menampilkan Nilai Variabel dan Teks Bebas"
      ],
      "metadata": {
        "id": "gT0ss2KXuB1o"
      }
    },
    {
      "cell_type": "code",
      "source": [
        "print(\"Nama saudara saya adalah\" ,Nama,\". Berat badannya adalah\",Berat_badan, \" Kg.\")"
      ],
      "metadata": {
        "colab": {
          "base_uri": "https://localhost:8080/"
        },
        "id": "BFSkFC4IuNpQ",
        "outputId": "c0d7d6c8-2920-49e1-de1a-4aaeec07d5d9"
      },
      "execution_count": null,
      "outputs": [
        {
          "output_type": "stream",
          "name": "stdout",
          "text": [
            "Nama saudara saya adalah Astharavino . Berat badannya adalah 7  Kg.\n"
          ]
        }
      ]
    },
    {
      "cell_type": "code",
      "source": [
        "print(\"Nama saudara saya adalah \"+Nama+\". Berat badannya adalah \"+str(Berat_badan)+\" Kg. \")"
      ],
      "metadata": {
        "colab": {
          "base_uri": "https://localhost:8080/"
        },
        "id": "giu2m8cMw0Y1",
        "outputId": "01152298-b38f-46e9-d98d-e06173d155ce"
      },
      "execution_count": null,
      "outputs": [
        {
          "output_type": "stream",
          "name": "stdout",
          "text": [
            "Nama saudara saya adalah Astharavino. Berat badannya adalah 7 Kg. \n"
          ]
        }
      ]
    },
    {
      "cell_type": "code",
      "source": [
        "print(f\"Nama saudara saya adalah {Nama}. Berat badannya adalah {Berat_badan} Kg. \")"
      ],
      "metadata": {
        "colab": {
          "base_uri": "https://localhost:8080/"
        },
        "id": "wdubwnR4xYqg",
        "outputId": "d0e2016b-3dd3-4b96-a4bc-73ed2bf3f2d0"
      },
      "execution_count": null,
      "outputs": [
        {
          "output_type": "stream",
          "name": "stdout",
          "text": [
            "Nama saudara saya adalah Astharavino. Berat badannya adalah 7 Kg. \n"
          ]
        }
      ]
    }
  ]
}